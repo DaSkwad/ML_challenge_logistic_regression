{
 "cells": [
  {
   "cell_type": "markdown",
   "id": "3c3ae775",
   "metadata": {},
   "source": [
    "![Titanic](img/titanic.jpeg)"
   ]
  },
  {
   "cell_type": "markdown",
   "id": "63573df5",
   "metadata": {},
   "source": [
    "🚢 **Survivre au Titanic – Prédiction avec une régression logistique**\n",
    "\n",
    "**Contexte** :\n",
    "\n",
    "Le RMS Titanic, paquebot transatlantique, a tragiquement coulé lors de son voyage inaugural. Vous travaillez comme data scientist pour un musée maritime qui souhaite analyser les données des passagers pour prédire la probabilité de survie d’un individu à partir de certaines informations (sexe, âge, classe, etc.).\n",
    "\n",
    "Vous êtes chargé·e de construire un modèle de classification, basé sur une [**régression logistique**](https://www.w3schools.com/python/python_ml_logistic_regression.asp), pour prédire la survie des passagers.\n",
    "\n",
    "⸻\n",
    "\n",
    "🎯 **Objectif** :\n",
    "\n",
    "Construire un modèle de régression logistique capable de prédire la variable Survived à partir des caractéristiques disponibles dans le fichier ([`data/titanic.csv`](data/titanic.csv)).  \n",
    "\n",
    "Pour comprendre le dataset, vous pouvez consulter cette page kaggle : https://www.kaggle.com/datasets/yasserh/titanic-dataset\n",
    "\n",
    "- Exploration des données (EDA) :\n",
    "    - Comprendre les variables (qualitatives/quantitatives)\n",
    "\t- Statistiques descriptives\n",
    "\t- Visualisations (histogrammes, heatmap de corrélation, etc.)\n",
    "- Préparation des données :\n",
    "    - Traitement des valeurs manquantes (Age, Cabin, etc.)\n",
    "\t- **Transformation des variables catégorielles** (Sex, Embarked, Pclass, etc.) [Étudier le one-hot encoding](https://www.w3schools.com/python/python_ml_preprocessing.asp)\n",
    "\t- **Création éventuelle de nouvelles features**\n",
    "\t- Standardisation si nécessaire\n",
    "    - Séparation train/test\n",
    "- Modélisation :\n",
    "    - Implémentation d’un modèle de régression logistique\n",
    "- Évaluation :\n",
    "    - Calcul des métriques : accuracy, precision, recall, f1-score\n",
    "    - Matrice de confusion \n",
    "    - Bonus : [Étudier AUC - ROC curve](https://www.w3schools.com/python/python_ml_auc_roc.asp)\n",
    "- Intégration simple du modèle dans un script interactif\n",
    "    - Intégrer votre modèle dans un script Python simple qui permet à un utilisateur de faire une prédiction à partir de nouvelles données."
   ]
  }
 ],
 "metadata": {
  "kernelspec": {
   "display_name": ".venv",
   "language": "python",
   "name": "python3"
  },
  "language_info": {
   "codemirror_mode": {
    "name": "ipython",
    "version": 3
   },
   "file_extension": ".py",
   "mimetype": "text/x-python",
   "name": "python",
   "nbconvert_exporter": "python",
   "pygments_lexer": "ipython3",
   "version": "3.13.3"
  }
 },
 "nbformat": 4,
 "nbformat_minor": 5
}
